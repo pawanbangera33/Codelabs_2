{
 "cells": [
  {
   "cell_type": "code",
   "execution_count": null,
   "id": "c03b789c-4ca5-413f-b104-268e262c1a23",
   "metadata": {},
   "outputs": [],
   "source": [
    "# Start to End tag = Element\n",
    "# attribute is written inside start tag\n",
    "# attribute syntax : Name = \"value\"\n",
    "# <div> tag is used as container or divisions in the document"
   ]
  },
  {
   "cell_type": "code",
   "execution_count": null,
   "id": "f4ab9e86-7500-4c93-b3ad-7ef453c7847d",
   "metadata": {},
   "outputs": [],
   "source": [
    "# css 3 types:\n",
    "# inline css - style attribute which are written inside tag\n",
    "# internal css - written in head tag\n",
    "# external css - creating seperate file.Using link"
   ]
  },
  {
   "cell_type": "code",
   "execution_count": null,
   "id": "220e5197-3647-4482-9232-f060695477b6",
   "metadata": {},
   "outputs": [],
   "source": [
    "# <style>\n",
    "# text-align = written inside style(alignment of text)"
   ]
  },
  {
   "cell_type": "code",
   "execution_count": null,
   "id": "ceb12ade-14f7-44d8-9371-6be5a6585f3d",
   "metadata": {},
   "outputs": [],
   "source": [
    "# <br></br> - break\n",
    "# <pre></pre> - predefined"
   ]
  },
  {
   "cell_type": "code",
   "execution_count": null,
   "id": "c255c7a1-6c59-4352-a4c7-5c1cfb542289",
   "metadata": {},
   "outputs": [],
   "source": [
    "# Formatting\n",
    "# <b> - Bold\n",
    "# <i> - Italic\n",
    "# <Strong>\n",
    "# <em> - Emphasized text\n",
    "# <u> - Underline\n",
    "# <ins> - inserted text\n",
    "# <sub> - Subscript\n",
    "# <sup> - Superscript"
   ]
  },
  {
   "cell_type": "code",
   "execution_count": null,
   "id": "91587ea5-3705-45c5-a468-c10be7ecbc02",
   "metadata": {},
   "outputs": [],
   "source": [
    "# <img src = >\n",
    "# alt - attribute\n"
   ]
  },
  {
   "cell_type": "code",
   "execution_count": null,
   "id": "0cdbcbba-9ce3-4355-91ad-3d8fc640b536",
   "metadata": {},
   "outputs": [],
   "source": [
    "# <link> - Link\n",
    "# rel - relationship\n",
    "# ex - <link rel = \"stylesheet\" href = \"filename.css\">"
   ]
  },
  {
   "cell_type": "code",
   "execution_count": null,
   "id": "33c78a43-02cf-48ba-9a66-9e3ae15a2a4c",
   "metadata": {},
   "outputs": [],
   "source": [
    "# <div></div> - used to create container or box"
   ]
  },
  {
   "cell_type": "code",
   "execution_count": null,
   "id": "e7c5ff80-1b14-4555-921f-953bc4ce6f0d",
   "metadata": {},
   "outputs": [],
   "source": [
    "# class is written inbetween head\n",
    "# # class synatx\n",
    "# # .classname{\n",
    "# # }"
   ]
  },
  {
   "cell_type": "code",
   "execution_count": null,
   "id": "a350aa03-350b-42a1-bc91-48c93fc3d217",
   "metadata": {},
   "outputs": [],
   "source": [
    "# # form\n",
    "# # form has 2 attributes:\n",
    "# # 1.action - sends data to database - redirect to different page\n",
    "# # 2.method - has 2 type - get and post\n",
    "# get - (shows data in the URL)\n",
    "# post - Does not show in the URL\n",
    "# form syntax - <form> action =  method = </form>"
   ]
  },
  {
   "cell_type": "code",
   "execution_count": null,
   "id": "afd254cf-7c53-434e-917f-72ff4e574a70",
   "metadata": {},
   "outputs": [],
   "source": [
    "# API - Used to communicate between client and server"
   ]
  },
  {
   "cell_type": "code",
   "execution_count": null,
   "id": "93911ffd-057a-4d0f-a9d4-213f59f3a3ed",
   "metadata": {},
   "outputs": [],
   "source": [
    "# HTTP API call method\n",
    "# HTML method"
   ]
  },
  {
   "cell_type": "code",
   "execution_count": null,
   "id": "ce0d3be6-3f47-4ab5-8c19-ef425c6c0828",
   "metadata": {},
   "outputs": [],
   "source": [
    "# Javascript tag is always in the end of body tag"
   ]
  }
 ],
 "metadata": {
  "kernelspec": {
   "display_name": "Python 3 (ipykernel)",
   "language": "python",
   "name": "python3"
  },
  "language_info": {
   "codemirror_mode": {
    "name": "ipython",
    "version": 3
   },
   "file_extension": ".py",
   "mimetype": "text/x-python",
   "name": "python",
   "nbconvert_exporter": "python",
   "pygments_lexer": "ipython3",
   "version": "3.11.1"
  }
 },
 "nbformat": 4,
 "nbformat_minor": 5
}
